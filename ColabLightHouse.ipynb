{
  "nbformat": 4,
  "nbformat_minor": 0,
  "metadata": {
    "colab": {
      "name": "ColabLightHouse ",
      "provenance": []
    },
    "kernelspec": {
      "name": "python3",
      "display_name": "Python 3"
    },
    "language_info": {
      "name": "python"
    }
  },
  "cells": [
    {
      "cell_type": "code",
      "metadata": {
        "id": "MtfnSphy4z0w",
        "cellView": "form"
      },
      "source": [
        "#@title <center><h1> Setup + Theme\n",
        "!pip install colorama >/dev/null 2>&1\n",
        "from IPython.display import HTML, display, clear_output\n",
        "from colorama import Fore, Style\n",
        "from requests import post\n",
        "def set_css():\n",
        "  display(HTML('''\n",
        "  <style>\n",
        "    @import url('https://wmeluna.github.io/colab.css');\n",
        "  </style>\n",
        "  '''))\n",
        "get_ipython().events.register('pre_run_cell', set_css)\n",
        "clear_output()"
      ],
      "execution_count": null,
      "outputs": []
    },
    {
      "cell_type": "code",
      "metadata": {
        "id": "D4XLdK8lU3LL",
        "cellView": "form"
      },
      "source": [
        "from colorama import Fore, Style\n",
        "from requests import post\n",
        "url = \"https://www.therapybydesign.com/\" #@param {type:\"string\"}\n",
        "json = {\"url\": url, \"replace\": True,\"save\": False}\n",
        "rq = post(\"https://lighthouse-dot-webdotdevsite.appspot.com//lh/newaudit\", json=json)\n",
        "for i in range(len(rq.json()[\"lhrSlim\"])):\n",
        "  print(Fore.BLUE + rq.json()[\"lhrSlim\"][i][\"title\"] + \": \" + Style.RESET_ALL + \"{:.0%}\".format(rq.json()[\"lhrSlim\"][i][\"score\"]))\n",
        "print(\"\\n\", end=\"\")\n",
        "data = rq.json()[\"lhr\"][\"audits\"]\n",
        "blockedId = [\"first-contentful-paint-3g\", \"first-contentful-paint\", \"first-meaningful-paint\", \"interactive\", \"speed-index\", \"largest-contentful-paint\", \"total-blocking-time\", \"cumulative-layout-shift\"]\n",
        "for key in data.keys():\n",
        "  #print(key)\n",
        "  if ((str(data[key][\"scoreDisplayMode\"]) != \"notApplicable\") and (str(data[key][\"score\"]) != \"None\") and (data[key][\"score\"] <= 0.9) and (data[key][\"id\"] not in blockedId)):\n",
        "    #print(data[key])\n",
        "    print(Fore.BLUE + str(data[key][\"title\"]) + \": \" + Style.RESET_ALL + str(data[key][\"description\"].split(\"[Learn more](\")[0]) )\n",
        "    if ((data[key][\"score\"] < 0.9) and (data[key][\"score\"] >= 0.5)):\n",
        "      print(Fore.YELLOW + \"\\t\" + \"Medium Impact \" + data[key][\"description\"].split(\"[Learn more](\")[1].split(\")\")[0])\n",
        "    if (data[key][\"score\"] < 0.49):\n",
        "      print(Fore.RED + \"\\t\" + \"High Impact \" + data[key][\"description\"].split(\"[Learn more](\")[1].split(\")\")[0])"
      ],
      "execution_count": null,
      "outputs": []
    }
  ]
}